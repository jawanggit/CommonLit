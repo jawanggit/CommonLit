{
 "cells": [
  {
   "cell_type": "code",
   "execution_count": 3,
   "metadata": {
    "execution": {
     "iopub.execute_input": "2021-05-27T06:24:07.275733Z",
     "iopub.status.busy": "2021-05-27T06:24:07.275347Z",
     "iopub.status.idle": "2021-05-27T06:24:07.281433Z",
     "shell.execute_reply": "2021-05-27T06:24:07.280171Z",
     "shell.execute_reply.started": "2021-05-27T06:24:07.275700Z"
    }
   },
   "outputs": [],
   "source": [
    "import pandas as pd\n",
    "import numpy as np\n",
    "import matplotlib.pyplot as plt\n",
    "from string import punctuation\n",
    "import re\n",
    "import lightgbm\n",
    "import random\n"
   ]
  },
  {
   "cell_type": "code",
   "execution_count": 4,
   "metadata": {
    "execution": {
     "iopub.execute_input": "2021-05-27T06:24:07.415968Z",
     "iopub.status.busy": "2021-05-27T06:24:07.415573Z",
     "iopub.status.idle": "2021-05-27T06:24:07.463629Z",
     "shell.execute_reply": "2021-05-27T06:24:07.462593Z",
     "shell.execute_reply.started": "2021-05-27T06:24:07.415936Z"
    }
   },
   "outputs": [],
   "source": [
    "test_data = pd.read_csv('../data/test.csv')\n",
    "train_data = pd.read_csv('../data/train.csv')"
   ]
  },
  {
   "cell_type": "code",
   "execution_count": 5,
   "metadata": {
    "execution": {
     "iopub.execute_input": "2021-05-27T06:24:07.577291Z",
     "iopub.status.busy": "2021-05-27T06:24:07.576913Z",
     "iopub.status.idle": "2021-05-27T06:24:07.583000Z",
     "shell.execute_reply": "2021-05-27T06:24:07.582227Z",
     "shell.execute_reply.started": "2021-05-27T06:24:07.577247Z"
    }
   },
   "outputs": [],
   "source": [
    "train = train_data.copy()\n",
    "test = test_data.copy()"
   ]
  },
  {
   "cell_type": "code",
   "execution_count": 6,
   "metadata": {
    "execution": {
     "iopub.execute_input": "2021-05-27T06:24:07.760327Z",
     "iopub.status.busy": "2021-05-27T06:24:07.759672Z",
     "iopub.status.idle": "2021-05-27T06:24:07.915439Z",
     "shell.execute_reply": "2021-05-27T06:24:07.914236Z",
     "shell.execute_reply.started": "2021-05-27T06:24:07.760289Z"
    }
   },
   "outputs": [
    {
     "name": "stdout",
     "output_type": "stream",
     "text": [
      "-0.9593187699947071\n"
     ]
    },
    {
     "data": {
      "text/plain": [
       "<AxesSubplot:ylabel='Frequency'>"
      ]
     },
     "execution_count": 6,
     "metadata": {},
     "output_type": "execute_result"
    },
    {
     "data": {
      "image/png": "[encoded data removed]",
      "text/plain": [
       "<Figure size 432x288 with 1 Axes>"
      ]
     },
     "metadata": {
      "needs_background": "light"
     },
     "output_type": "display_data"
    }
   ],
   "source": [
    "print(train.target.mean())\n",
    "train.target.plot.hist()"
   ]
  },
  {
   "cell_type": "code",
   "execution_count": 7,
   "metadata": {
    "execution": {
     "iopub.execute_input": "2021-05-27T06:24:07.954319Z",
     "iopub.status.busy": "2021-05-27T06:24:07.953922Z",
     "iopub.status.idle": "2021-05-27T06:24:07.987169Z",
     "shell.execute_reply": "2021-05-27T06:24:07.985861Z",
     "shell.execute_reply.started": "2021-05-27T06:24:07.954289Z"
    }
   },
   "outputs": [],
   "source": [
    "def remove_char(text):\n",
    "    num = random.randint(15,35)\n",
    "    num2 = random.randint(0,1)\n",
    "    \n",
    "    if num2 == 0:\n",
    "        return text+text[0:num]\n",
    "    else:\n",
    "        return text[:-num]\n",
    "# ------------------------------------\n",
    "def target_jitter(df):\n",
    "    lst = list(zip(df.target, df.standard_error))\n",
    "    final_lst = []\n",
    "    for val in lst:\n",
    "        num = random.randint(0,1)\n",
    "        error = random.uniform(0, val[1])\n",
    "        if num ==0:\n",
    "            final_lst.append(val[0]+error)\n",
    "        else:\n",
    "            final_lst.append(val[0]-error)\n",
    "    df['target'] = final_lst\n",
    "    return df\n",
    "    \n",
    "    \n",
    "# ------------------------------------\n",
    "def word_length_counts(text):\n",
    "    '''\n",
    "        Return: \n",
    "            Dictionry of words length counts \n",
    "    '''\n",
    "    \n",
    "    d = {\"1_letter\": 0, \n",
    "         \"2_letter\": 0, \n",
    "         \"3_letter\": 0, \n",
    "         \"4_letter\": 0, \n",
    "         \"5_letter\": 0, \n",
    "         \"6_letter\": 0, \n",
    "         \"7_letter\": 0, \n",
    "         \"8_letter\": 0, \n",
    "         \"9_letter\": 0, \n",
    "         \"10_letter\": 0, \n",
    "         \"11_letter\": 0, \n",
    "         \"12_letter\": 0\n",
    "    }\n",
    "\n",
    "    text.replace('\\n', '')\n",
    "    text = text.lower()\n",
    "    n_text = ''\n",
    "    for c in text: \n",
    "        if c not in punctuation:\n",
    "            n_text += c\n",
    "        else: n_text += ' '\n",
    "\n",
    "    text = n_text\n",
    "    for word in text.split(' '): \n",
    "        wl = len(word)\n",
    "        if wl > 0:\n",
    "            if len(word) >= 12: key = f\"12_letter\"\n",
    "            else:  key = f\"{len(word)}_letter\"\n",
    "\n",
    "            d[key] += 1; \n",
    "    return d\n",
    "# ------------------------------------\n",
    "def source_info(text):\n",
    "    '''\n",
    "        Return: \n",
    "            Dictionary of source wiki, article, book, details, story or stories, kid, edu, simple\n",
    "    '''\n",
    "    d = dict()\n",
    "    source_type = ['wiki', 'article', 'book', 'details', 'kid', 'edu', 'simple', 'story', 'stories']\n",
    "    \n",
    "    for t in source_type:\n",
    "        if t != 'stories': \n",
    "            d[t] = 0\n",
    "            \n",
    "        if t in text:\n",
    "            if t == 'stories': \n",
    "                d['story'] = 1;\n",
    "            else: d[t] = 1\n",
    "    return d\n",
    "# ------------------------------------\n",
    "def document_info(text):\n",
    "    '''\n",
    "        Return:\n",
    "            Dictionary of document lenght, word count, sentence count, average word lenght\n",
    "    '''\n",
    "    text_lenght = len(text)\n",
    "    text = text.replace('\\n', ' ')\n",
    "    text_word_count = len(text.split(' '))\n",
    "    text_sentence_count = len(re.split('\\.|!|\\?',text)) # modified by James\n",
    "    text = re.split('\\.|!|\\?',text)\n",
    "    text_avg_word_length = round(sum([len(t) for t in text]) / text_word_count, 2)\n",
    "\n",
    "    document_info = {\n",
    "        'doc_len': text_lenght,\n",
    "        'word_count': text_word_count,\n",
    "        'sent_count': text_sentence_count,\n",
    "        'avg_word_len': text_avg_word_length\n",
    "    }\n",
    "\n",
    "    return document_info\n",
    "#----------------------------------------\n",
    "def words_per_sentence(text):\n",
    "   \n",
    "    total = []\n",
    "    text = text.replace('Mrs.',\"Mrs\")\n",
    "    text = text.replace('Mr.',\"Mr\")\n",
    "    text = text.replace('Dr.',\"Dr\")\n",
    "    text = text.replace('Capt.',\"Capt\")\n",
    "    text = text.replace('U.S.',\"U S\")\n",
    "    text = text.replace('U. S.',\"U S\")\n",
    "    \n",
    "    sentences = re.split('\\. |! |\\? ',text)\n",
    "    for sentence in sentences: #iterate over list of sentences\n",
    "        if sentence != '':\n",
    "            word_list = sentence.split(' ') #split a sentence into list of words\n",
    "            while(\"\" in word_list):\n",
    "                word_list.remove(\"\")\n",
    "            while('\"' in word_list):\n",
    "                word_list.remove('\"')\n",
    "            total.append(len(word_list)) #total number of words in a sentence add to list\n",
    "    return np.mean(total)\n",
    "    \n",
    "# ------------------------------------\n",
    "def character_counts(text):\n",
    "    '''\n",
    "        Return:\n",
    "            Dictionary of counts of all characters in text\n",
    "    '''\n",
    "    char_dict = dict()\n",
    "    text = text.lower()\n",
    "    text = text.replace('\\n', ' ')\n",
    "    \n",
    "    for char in text:\n",
    "        if char not in char_dict:\n",
    "            char_dict[char] = 0\n",
    "        \n",
    "        char_dict[char] += 1     \n",
    "        \n",
    "    return char_dict\n",
    "\n",
    "# ------------------------------------\n",
    "def phonemes_counts(text):\n",
    "    '''\n",
    "        Return: \n",
    "            Dictionay of all phonemic in text\n",
    "    '''\n",
    "    phonemes = ['ck', 'cc', 'di', 'nn', 'dd', 'ai', 'ss', 'mn', 'bb', \n",
    "                'sci', 'ze', 'qu', 'se', 'sc', 'ci', 'ps', 'si', 'tch', \n",
    "                'ngue', 'st', 'gu', 'th', 'pn', 've', 'te', 'zz', 'au', \n",
    "                'lm', 'lf', 'ge', 'wh', 'tu', 'wr', 'ph', 'sh', 'mm', 'gh', \n",
    "                'dge', 'ft', 'tt', 'ed', 'ng', 'lk', 'ti', 'gue', 'rr', 'ch', \n",
    "                'll', 'gn', 'ff', 'gg', 'pp', 'rh', 'ce', 'mb', 'kn', \n",
    "                'eer', 'ere', 'uy', 'ho', 'ear', 'ei', 'ar', 'ai', \n",
    "                'oor', 'ure', 'eigh', 'ey', 'is', 'ae', 'ow', 'or', 'ew', \n",
    "                'ore', 'ur', 'uoy', 'air', 'au', 'ough', 'yr', \n",
    "                'ea', 'ayer', 'augh', 'aw', 'eau', 'aigh', 'igh', 'oy', \n",
    "                'oo', 'ue', 'are', 'ee', 'oa', 'et', 'y', 'er', 'eir', \n",
    "                'oew', 'oar', 'ie', 'eo', 'ui', 'ier', 'ou', 'ir', 'oi', \n",
    "                'ay', 'ye', 'oe', 'our']\n",
    "    temp_dict = dict()\n",
    "    \n",
    "    # lower text \n",
    "    text = text.lower()\n",
    "    \n",
    "    for p in phonemes:\n",
    "        temp_dict[p] = text.count(p)\n",
    "    \n",
    "    return temp_dict\n",
    "\n",
    "#-----------------------\n",
    "def add_data(df,float1,float2):\n",
    "    group = df.loc[(df.target<float1) | (df.target>float2)]\n",
    "    group = group.copy()\n",
    "    group['mod'] =  group.excerpt.apply(lambda x: remove_char(x))\n",
    "    group.drop(columns =['excerpt'],axis = 1,inplace = True)\n",
    "    group = group.rename(columns = {\"mod\":\"excerpt\"})\n",
    "    target_jitter(group)\n",
    "    mod_train = pd.concat([df,group],sort = 'False')\n",
    "    train = mod_train\n",
    "    return train"
   ]
  },
  {
   "cell_type": "code",
   "execution_count": 8,
   "metadata": {
    "execution": {
     "iopub.execute_input": "2021-05-27T06:24:08.101764Z",
     "iopub.status.busy": "2021-05-27T06:24:08.101309Z",
     "iopub.status.idle": "2021-05-27T06:24:08.109059Z",
     "shell.execute_reply": "2021-05-27T06:24:08.108251Z",
     "shell.execute_reply.started": "2021-05-27T06:24:08.101729Z"
    }
   },
   "outputs": [
    {
     "data": {
      "text/plain": [
       "1.7113898269999999"
      ]
     },
     "execution_count": 8,
     "metadata": {},
     "output_type": "execute_result"
    }
   ],
   "source": [
    "train.target.max()"
   ]
  },
  {
   "cell_type": "code",
   "execution_count": 9,
   "metadata": {
    "execution": {
     "iopub.execute_input": "2021-05-27T06:24:08.311661Z",
     "iopub.status.busy": "2021-05-27T06:24:08.310892Z",
     "iopub.status.idle": "2021-05-27T06:24:08.611499Z",
     "shell.execute_reply": "2021-05-27T06:24:08.610515Z",
     "shell.execute_reply.started": "2021-05-27T06:24:08.311621Z"
    }
   },
   "outputs": [
    {
     "data": {
      "text/plain": [
       "<AxesSubplot:ylabel='Frequency'>"
      ]
     },
     "execution_count": 9,
     "metadata": {},
     "output_type": "execute_result"
    },
    {
     "data": {
      "image/png": "[encoded data removed]",
      "text/plain": [
       "<Figure size 432x288 with 1 Axes>"
      ]
     },
     "metadata": {
      "needs_background": "light"
     },
     "output_type": "display_data"
    }
   ],
   "source": [
    "train = add_data(train,-2,1)\n",
    "train = add_data(train,-3,1)\n",
    "train = add_data(train,-5,1)\n",
    "train = add_data(train,-5,1)\n",
    "train = add_data(train,-5,1)\n",
    "train = add_data(train,-5,1)\n",
    "train = add_data(train,-3,1)\n",
    "train = add_data(train,-2,1)\n",
    "\n",
    "\n",
    "train.target.plot.hist()"
   ]
  },
  {
   "cell_type": "code",
   "execution_count": 10,
   "metadata": {
    "execution": {
     "iopub.execute_input": "2021-05-27T06:24:08.614916Z",
     "iopub.status.busy": "2021-05-27T06:24:08.614332Z",
     "iopub.status.idle": "2021-05-27T06:24:08.622222Z",
     "shell.execute_reply": "2021-05-27T06:24:08.620947Z",
     "shell.execute_reply.started": "2021-05-27T06:24:08.614860Z"
    }
   },
   "outputs": [
    {
     "name": "stdout",
     "output_type": "stream",
     "text": [
      "0.2551787428189292\n",
      "12934\n"
     ]
    }
   ],
   "source": [
    "print(train.target.mean())\n",
    "print(len(train))"
   ]
  },
  {
   "cell_type": "code",
   "execution_count": 11,
   "metadata": {
    "execution": {
     "iopub.execute_input": "2021-05-27T06:24:08.704298Z",
     "iopub.status.busy": "2021-05-27T06:24:08.703871Z",
     "iopub.status.idle": "2021-05-27T06:24:08.718058Z",
     "shell.execute_reply": "2021-05-27T06:24:08.716792Z",
     "shell.execute_reply.started": "2021-05-27T06:24:08.704247Z"
    }
   },
   "outputs": [
    {
     "name": "stderr",
     "output_type": "stream",
     "text": [
      "<ipython-input-11-d070e0ef3f54>:2: FutureWarning: Sorting because non-concatenation axis is not aligned. A future version\n",
      "of pandas will change to not sort by default.\n",
      "\n",
      "To accept the future behavior, pass 'sort=False'.\n",
      "\n",
      "To retain the current behavior and silence the warning, pass 'sort=True'.\n",
      "\n",
      "  c_df = pd.concat([train, test], axis = 0)\n"
     ]
    }
   ],
   "source": [
    "#combine train and test set for pre-processing\n",
    "c_df = pd.concat([train, test], axis = 0)"
   ]
  },
  {
   "cell_type": "code",
   "execution_count": 12,
   "metadata": {
    "execution": {
     "iopub.execute_input": "2021-05-27T06:24:08.867537Z",
     "iopub.status.busy": "2021-05-27T06:24:08.867143Z",
     "iopub.status.idle": "2021-05-27T06:24:08.893104Z",
     "shell.execute_reply": "2021-05-27T06:24:08.891818Z",
     "shell.execute_reply.started": "2021-05-27T06:24:08.867505Z"
    }
   },
   "outputs": [
    {
     "data": {
      "text/html": [
       "<div>\n",
       "<style scoped>\n",
       "    .dataframe tbody tr th:only-of-type {\n",
       "        vertical-align: middle;\n",
       "    }\n",
       "\n",
       "    .dataframe tbody tr th {\n",
       "        vertical-align: top;\n",
       "    }\n",
       "\n",
       "    .dataframe thead th {\n",
       "        text-align: right;\n",
       "    }\n",
       "</style>\n",
       "<table border=\"1\" class=\"dataframe\">\n",
       "  <thead>\n",
       "    <tr style=\"text-align: right;\">\n",
       "      <th></th>\n",
       "      <th>excerpt</th>\n",
       "      <th>id</th>\n",
       "      <th>license</th>\n",
       "      <th>standard_error</th>\n",
       "      <th>target</th>\n",
       "      <th>url_legal</th>\n",
       "    </tr>\n",
       "  </thead>\n",
       "  <tbody>\n",
       "    <tr>\n",
       "      <th>0</th>\n",
       "      <td>When the young people returned to the ballroom...</td>\n",
       "      <td>c12129c31</td>\n",
       "      <td>NaN</td>\n",
       "      <td>0.464009</td>\n",
       "      <td>-0.340259</td>\n",
       "      <td>NaN</td>\n",
       "    </tr>\n",
       "    <tr>\n",
       "      <th>1</th>\n",
       "      <td>All through dinner time, Mrs. Fayre was somewh...</td>\n",
       "      <td>85aa80a4c</td>\n",
       "      <td>NaN</td>\n",
       "      <td>0.480805</td>\n",
       "      <td>-0.315372</td>\n",
       "      <td>NaN</td>\n",
       "    </tr>\n",
       "    <tr>\n",
       "      <th>2</th>\n",
       "      <td>As Roger had predicted, the snow departed as q...</td>\n",
       "      <td>b69ac6792</td>\n",
       "      <td>NaN</td>\n",
       "      <td>0.476676</td>\n",
       "      <td>-0.580118</td>\n",
       "      <td>NaN</td>\n",
       "    </tr>\n",
       "    <tr>\n",
       "      <th>3</th>\n",
       "      <td>And outside before the palace a great garden w...</td>\n",
       "      <td>dd1000b26</td>\n",
       "      <td>NaN</td>\n",
       "      <td>0.450007</td>\n",
       "      <td>-1.054013</td>\n",
       "      <td>NaN</td>\n",
       "    </tr>\n",
       "    <tr>\n",
       "      <th>4</th>\n",
       "      <td>Once upon a time there were Three Bears who li...</td>\n",
       "      <td>37c1b32fb</td>\n",
       "      <td>NaN</td>\n",
       "      <td>0.510845</td>\n",
       "      <td>0.247197</td>\n",
       "      <td>NaN</td>\n",
       "    </tr>\n",
       "    <tr>\n",
       "      <th>...</th>\n",
       "      <td>...</td>\n",
       "      <td>...</td>\n",
       "      <td>...</td>\n",
       "      <td>...</td>\n",
       "      <td>...</td>\n",
       "      <td>...</td>\n",
       "    </tr>\n",
       "    <tr>\n",
       "      <th>2</th>\n",
       "      <td>It was a bright and cheerful scene that greete...</td>\n",
       "      <td>0df072751</td>\n",
       "      <td>NaN</td>\n",
       "      <td>NaN</td>\n",
       "      <td>NaN</td>\n",
       "      <td>NaN</td>\n",
       "    </tr>\n",
       "    <tr>\n",
       "      <th>3</th>\n",
       "      <td>Cell division is the process by which a parent...</td>\n",
       "      <td>04caf4e0c</td>\n",
       "      <td>CC BY-SA 3.0</td>\n",
       "      <td>NaN</td>\n",
       "      <td>NaN</td>\n",
       "      <td>https://en.wikipedia.org/wiki/Cell_division</td>\n",
       "    </tr>\n",
       "    <tr>\n",
       "      <th>4</th>\n",
       "      <td>Debugging is the process of finding and resolv...</td>\n",
       "      <td>0e63f8bea</td>\n",
       "      <td>CC BY-SA 3.0</td>\n",
       "      <td>NaN</td>\n",
       "      <td>NaN</td>\n",
       "      <td>https://en.wikipedia.org/wiki/Debugging</td>\n",
       "    </tr>\n",
       "    <tr>\n",
       "      <th>5</th>\n",
       "      <td>To explain transitivity, let us look first at ...</td>\n",
       "      <td>12537fe78</td>\n",
       "      <td>NaN</td>\n",
       "      <td>NaN</td>\n",
       "      <td>NaN</td>\n",
       "      <td>NaN</td>\n",
       "    </tr>\n",
       "    <tr>\n",
       "      <th>6</th>\n",
       "      <td>Milka and John are playing in the garden. Her ...</td>\n",
       "      <td>965e592c0</td>\n",
       "      <td>CC BY 4.0</td>\n",
       "      <td>NaN</td>\n",
       "      <td>NaN</td>\n",
       "      <td>https://www.africanstorybook.org/#</td>\n",
       "    </tr>\n",
       "  </tbody>\n",
       "</table>\n",
       "<p>12941 rows × 6 columns</p>\n",
       "</div>"
      ],
      "text/plain": [
       "                                              excerpt         id  \\\n",
       "0   When the young people returned to the ballroom...  c12129c31   \n",
       "1   All through dinner time, Mrs. Fayre was somewh...  85aa80a4c   \n",
       "2   As Roger had predicted, the snow departed as q...  b69ac6792   \n",
       "3   And outside before the palace a great garden w...  dd1000b26   \n",
       "4   Once upon a time there were Three Bears who li...  37c1b32fb   \n",
       "..                                                ...        ...   \n",
       "2   It was a bright and cheerful scene that greete...  0df072751   \n",
       "3   Cell division is the process by which a parent...  04caf4e0c   \n",
       "4   Debugging is the process of finding and resolv...  0e63f8bea   \n",
       "5   To explain transitivity, let us look first at ...  12537fe78   \n",
       "6   Milka and John are playing in the garden. Her ...  965e592c0   \n",
       "\n",
       "         license  standard_error    target  \\\n",
       "0            NaN        0.464009 -0.340259   \n",
       "1            NaN        0.480805 -0.315372   \n",
       "2            NaN        0.476676 -0.580118   \n",
       "3            NaN        0.450007 -1.054013   \n",
       "4            NaN        0.510845  0.247197   \n",
       "..           ...             ...       ...   \n",
       "2            NaN             NaN       NaN   \n",
       "3   CC BY-SA 3.0             NaN       NaN   \n",
       "4   CC BY-SA 3.0             NaN       NaN   \n",
       "5            NaN             NaN       NaN   \n",
       "6      CC BY 4.0             NaN       NaN   \n",
       "\n",
       "                                      url_legal  \n",
       "0                                           NaN  \n",
       "1                                           NaN  \n",
       "2                                           NaN  \n",
       "3                                           NaN  \n",
       "4                                           NaN  \n",
       "..                                          ...  \n",
       "2                                           NaN  \n",
       "3   https://en.wikipedia.org/wiki/Cell_division  \n",
       "4       https://en.wikipedia.org/wiki/Debugging  \n",
       "5                                           NaN  \n",
       "6            https://www.africanstorybook.org/#  \n",
       "\n",
       "[12941 rows x 6 columns]"
      ]
     },
     "execution_count": 12,
     "metadata": {},
     "output_type": "execute_result"
    }
   ],
   "source": [
    "c_df"
   ]
  },
  {
   "cell_type": "code",
   "execution_count": 13,
   "metadata": {
    "execution": {
     "iopub.execute_input": "2021-05-27T06:24:09.312341Z",
     "iopub.status.busy": "2021-05-27T06:24:09.311539Z",
     "iopub.status.idle": "2021-05-27T06:24:17.981332Z",
     "shell.execute_reply": "2021-05-27T06:24:17.980442Z",
     "shell.execute_reply.started": "2021-05-27T06:24:09.312289Z"
    }
   },
   "outputs": [],
   "source": [
    "series_documents =  c_df.excerpt.apply(lambda x: document_info(x))\n",
    "series_phonemes = c_df.excerpt.apply(lambda x: phonemes_counts(x))\n",
    "series_characters =  c_df.excerpt.apply(lambda x: character_counts(x))\n",
    "series_word_length = c_df.excerpt.apply(lambda x: word_length_counts(x))\n",
    "series_word_per_sent = c_df.excerpt.apply(lambda x: words_per_sentence(x))"
   ]
  },
  {
   "cell_type": "code",
   "execution_count": 14,
   "metadata": {
    "execution": {
     "iopub.execute_input": "2021-05-27T06:24:17.983091Z",
     "iopub.status.busy": "2021-05-27T06:24:17.982684Z",
     "iopub.status.idle": "2021-05-27T06:24:19.227876Z",
     "shell.execute_reply": "2021-05-27T06:24:19.226841Z",
     "shell.execute_reply.started": "2021-05-27T06:24:17.983058Z"
    }
   },
   "outputs": [],
   "source": [
    "df_documents = pd.DataFrame(list(series_documents))\n",
    "df_phonemes = pd.DataFrame(list(series_phonemes))\n",
    "df_chracters = pd.DataFrame(list(series_characters))\n",
    "df_word_length = pd.DataFrame(list(series_word_length))\n",
    "df_word_per_sent = pd.DataFrame(list(series_word_per_sent))\n",
    "df_word_per_sent.rename(columns={0:'wps'}, inplace = True)"
   ]
  },
  {
   "cell_type": "code",
   "execution_count": 15,
   "metadata": {
    "execution": {
     "iopub.execute_input": "2021-05-27T06:24:19.230163Z",
     "iopub.status.busy": "2021-05-27T06:24:19.229653Z",
     "iopub.status.idle": "2021-05-27T06:24:19.380887Z",
     "shell.execute_reply": "2021-05-27T06:24:19.379826Z",
     "shell.execute_reply.started": "2021-05-27T06:24:19.230117Z"
    }
   },
   "outputs": [],
   "source": [
    "# Make na 0\n",
    "df_chracters.fillna(0, inplace = True)\n",
    "#df_chracters_test.fillna(0, inplace = True)\n",
    "\n",
    "\n",
    "# Make all ints (change NaN to 0)\n",
    "for col in df_chracters.columns:\n",
    "    df_chracters[col] = df_chracters[col].astype(int, copy=False)\n",
    "\n",
    "#for col in df_chracters_test.columns:\n",
    "#    df_chracters_test[col] = df_chracters_test[col].astype(int, copy=False)\n"
   ]
  },
  {
   "cell_type": "code",
   "execution_count": 16,
   "metadata": {
    "execution": {
     "iopub.execute_input": "2021-05-27T06:24:19.383127Z",
     "iopub.status.busy": "2021-05-27T06:24:19.382623Z",
     "iopub.status.idle": "2021-05-27T06:24:19.416957Z",
     "shell.execute_reply": "2021-05-27T06:24:19.415532Z",
     "shell.execute_reply.started": "2021-05-27T06:24:19.383082Z"
    }
   },
   "outputs": [],
   "source": [
    "df_dialogue = pd.DataFrame(list(c_df.excerpt.str.contains(\"\\\".*\\\"\",regex = True).astype(int)))\n",
    "df_dialogue.rename(columns = {0:'dialogue'},inplace = True)"
   ]
  },
  {
   "cell_type": "code",
   "execution_count": 17,
   "metadata": {
    "execution": {
     "iopub.execute_input": "2021-05-27T06:26:15.775553Z",
     "iopub.status.busy": "2021-05-27T06:26:15.775201Z",
     "iopub.status.idle": "2021-05-27T06:26:15.784386Z",
     "shell.execute_reply": "2021-05-27T06:26:15.783148Z",
     "shell.execute_reply.started": "2021-05-27T06:26:15.775522Z"
    }
   },
   "outputs": [],
   "source": [
    "df_X = pd.concat([df_documents, df_phonemes, df_word_length,df_word_per_sent,df_dialogue], axis = 1)\n",
    "#df_X_test = pd.concat([df_documents_test, df_phonemes_test, df_word_lenght_test], axis = 1)"
   ]
  },
  {
   "cell_type": "code",
   "execution_count": 18,
   "metadata": {
    "execution": {
     "iopub.execute_input": "2021-05-27T06:26:18.838239Z",
     "iopub.status.busy": "2021-05-27T06:26:18.837892Z",
     "iopub.status.idle": "2021-05-27T06:26:18.874429Z",
     "shell.execute_reply": "2021-05-27T06:26:18.873300Z",
     "shell.execute_reply.started": "2021-05-27T06:26:18.838210Z"
    }
   },
   "outputs": [
    {
     "data": {
      "text/html": [
       "<div>\n",
       "<style scoped>\n",
       "    .dataframe tbody tr th:only-of-type {\n",
       "        vertical-align: middle;\n",
       "    }\n",
       "\n",
       "    .dataframe tbody tr th {\n",
       "        vertical-align: top;\n",
       "    }\n",
       "\n",
       "    .dataframe thead th {\n",
       "        text-align: right;\n",
       "    }\n",
       "</style>\n",
       "<table border=\"1\" class=\"dataframe\">\n",
       "  <thead>\n",
       "    <tr style=\"text-align: right;\">\n",
       "      <th></th>\n",
       "      <th>doc_len</th>\n",
       "      <th>word_count</th>\n",
       "      <th>sent_count</th>\n",
       "      <th>avg_word_len</th>\n",
       "      <th>ck</th>\n",
       "      <th>cc</th>\n",
       "      <th>di</th>\n",
       "      <th>nn</th>\n",
       "      <th>dd</th>\n",
       "      <th>ai</th>\n",
       "      <th>...</th>\n",
       "      <th>5_letter</th>\n",
       "      <th>6_letter</th>\n",
       "      <th>7_letter</th>\n",
       "      <th>8_letter</th>\n",
       "      <th>9_letter</th>\n",
       "      <th>10_letter</th>\n",
       "      <th>11_letter</th>\n",
       "      <th>12_letter</th>\n",
       "      <th>wps</th>\n",
       "      <th>dialogue</th>\n",
       "    </tr>\n",
       "  </thead>\n",
       "  <tbody>\n",
       "    <tr>\n",
       "      <th>0</th>\n",
       "      <td>992</td>\n",
       "      <td>179</td>\n",
       "      <td>12</td>\n",
       "      <td>5.48</td>\n",
       "      <td>1</td>\n",
       "      <td>0</td>\n",
       "      <td>1</td>\n",
       "      <td>0</td>\n",
       "      <td>0</td>\n",
       "      <td>1</td>\n",
       "      <td>...</td>\n",
       "      <td>21</td>\n",
       "      <td>10</td>\n",
       "      <td>9</td>\n",
       "      <td>10</td>\n",
       "      <td>8</td>\n",
       "      <td>3</td>\n",
       "      <td>0</td>\n",
       "      <td>0</td>\n",
       "      <td>29.000000</td>\n",
       "      <td>0</td>\n",
       "    </tr>\n",
       "    <tr>\n",
       "      <th>1</th>\n",
       "      <td>937</td>\n",
       "      <td>169</td>\n",
       "      <td>18</td>\n",
       "      <td>5.44</td>\n",
       "      <td>0</td>\n",
       "      <td>0</td>\n",
       "      <td>1</td>\n",
       "      <td>1</td>\n",
       "      <td>1</td>\n",
       "      <td>3</td>\n",
       "      <td>...</td>\n",
       "      <td>17</td>\n",
       "      <td>15</td>\n",
       "      <td>12</td>\n",
       "      <td>5</td>\n",
       "      <td>2</td>\n",
       "      <td>5</td>\n",
       "      <td>2</td>\n",
       "      <td>0</td>\n",
       "      <td>20.500000</td>\n",
       "      <td>1</td>\n",
       "    </tr>\n",
       "    <tr>\n",
       "      <th>2</th>\n",
       "      <td>908</td>\n",
       "      <td>166</td>\n",
       "      <td>13</td>\n",
       "      <td>5.40</td>\n",
       "      <td>3</td>\n",
       "      <td>1</td>\n",
       "      <td>1</td>\n",
       "      <td>1</td>\n",
       "      <td>1</td>\n",
       "      <td>4</td>\n",
       "      <td>...</td>\n",
       "      <td>24</td>\n",
       "      <td>7</td>\n",
       "      <td>11</td>\n",
       "      <td>9</td>\n",
       "      <td>3</td>\n",
       "      <td>2</td>\n",
       "      <td>0</td>\n",
       "      <td>0</td>\n",
       "      <td>27.000000</td>\n",
       "      <td>1</td>\n",
       "    </tr>\n",
       "    <tr>\n",
       "      <th>3</th>\n",
       "      <td>909</td>\n",
       "      <td>164</td>\n",
       "      <td>6</td>\n",
       "      <td>5.51</td>\n",
       "      <td>0</td>\n",
       "      <td>0</td>\n",
       "      <td>0</td>\n",
       "      <td>0</td>\n",
       "      <td>0</td>\n",
       "      <td>3</td>\n",
       "      <td>...</td>\n",
       "      <td>21</td>\n",
       "      <td>20</td>\n",
       "      <td>15</td>\n",
       "      <td>4</td>\n",
       "      <td>1</td>\n",
       "      <td>1</td>\n",
       "      <td>0</td>\n",
       "      <td>1</td>\n",
       "      <td>40.750000</td>\n",
       "      <td>0</td>\n",
       "    </tr>\n",
       "    <tr>\n",
       "      <th>4</th>\n",
       "      <td>723</td>\n",
       "      <td>147</td>\n",
       "      <td>6</td>\n",
       "      <td>4.88</td>\n",
       "      <td>0</td>\n",
       "      <td>0</td>\n",
       "      <td>0</td>\n",
       "      <td>0</td>\n",
       "      <td>7</td>\n",
       "      <td>4</td>\n",
       "      <td>...</td>\n",
       "      <td>28</td>\n",
       "      <td>14</td>\n",
       "      <td>0</td>\n",
       "      <td>2</td>\n",
       "      <td>0</td>\n",
       "      <td>0</td>\n",
       "      <td>0</td>\n",
       "      <td>0</td>\n",
       "      <td>29.400000</td>\n",
       "      <td>0</td>\n",
       "    </tr>\n",
       "    <tr>\n",
       "      <th>...</th>\n",
       "      <td>...</td>\n",
       "      <td>...</td>\n",
       "      <td>...</td>\n",
       "      <td>...</td>\n",
       "      <td>...</td>\n",
       "      <td>...</td>\n",
       "      <td>...</td>\n",
       "      <td>...</td>\n",
       "      <td>...</td>\n",
       "      <td>...</td>\n",
       "      <td>...</td>\n",
       "      <td>...</td>\n",
       "      <td>...</td>\n",
       "      <td>...</td>\n",
       "      <td>...</td>\n",
       "      <td>...</td>\n",
       "      <td>...</td>\n",
       "      <td>...</td>\n",
       "      <td>...</td>\n",
       "      <td>...</td>\n",
       "      <td>...</td>\n",
       "    </tr>\n",
       "    <tr>\n",
       "      <th>12936</th>\n",
       "      <td>948</td>\n",
       "      <td>174</td>\n",
       "      <td>14</td>\n",
       "      <td>5.37</td>\n",
       "      <td>0</td>\n",
       "      <td>0</td>\n",
       "      <td>2</td>\n",
       "      <td>1</td>\n",
       "      <td>0</td>\n",
       "      <td>5</td>\n",
       "      <td>...</td>\n",
       "      <td>14</td>\n",
       "      <td>18</td>\n",
       "      <td>11</td>\n",
       "      <td>11</td>\n",
       "      <td>3</td>\n",
       "      <td>1</td>\n",
       "      <td>0</td>\n",
       "      <td>0</td>\n",
       "      <td>33.600000</td>\n",
       "      <td>1</td>\n",
       "    </tr>\n",
       "    <tr>\n",
       "      <th>12937</th>\n",
       "      <td>1144</td>\n",
       "      <td>182</td>\n",
       "      <td>8</td>\n",
       "      <td>6.25</td>\n",
       "      <td>0</td>\n",
       "      <td>1</td>\n",
       "      <td>13</td>\n",
       "      <td>0</td>\n",
       "      <td>0</td>\n",
       "      <td>0</td>\n",
       "      <td>...</td>\n",
       "      <td>19</td>\n",
       "      <td>11</td>\n",
       "      <td>18</td>\n",
       "      <td>23</td>\n",
       "      <td>6</td>\n",
       "      <td>9</td>\n",
       "      <td>7</td>\n",
       "      <td>1</td>\n",
       "      <td>35.800000</td>\n",
       "      <td>0</td>\n",
       "    </tr>\n",
       "    <tr>\n",
       "      <th>12938</th>\n",
       "      <td>1094</td>\n",
       "      <td>168</td>\n",
       "      <td>7</td>\n",
       "      <td>6.48</td>\n",
       "      <td>2</td>\n",
       "      <td>0</td>\n",
       "      <td>5</td>\n",
       "      <td>0</td>\n",
       "      <td>0</td>\n",
       "      <td>0</td>\n",
       "      <td>...</td>\n",
       "      <td>18</td>\n",
       "      <td>11</td>\n",
       "      <td>26</td>\n",
       "      <td>8</td>\n",
       "      <td>18</td>\n",
       "      <td>6</td>\n",
       "      <td>6</td>\n",
       "      <td>0</td>\n",
       "      <td>33.400000</td>\n",
       "      <td>1</td>\n",
       "    </tr>\n",
       "    <tr>\n",
       "      <th>12939</th>\n",
       "      <td>823</td>\n",
       "      <td>148</td>\n",
       "      <td>10</td>\n",
       "      <td>5.50</td>\n",
       "      <td>0</td>\n",
       "      <td>0</td>\n",
       "      <td>2</td>\n",
       "      <td>0</td>\n",
       "      <td>0</td>\n",
       "      <td>1</td>\n",
       "      <td>...</td>\n",
       "      <td>7</td>\n",
       "      <td>12</td>\n",
       "      <td>17</td>\n",
       "      <td>3</td>\n",
       "      <td>2</td>\n",
       "      <td>0</td>\n",
       "      <td>3</td>\n",
       "      <td>3</td>\n",
       "      <td>16.444444</td>\n",
       "      <td>0</td>\n",
       "    </tr>\n",
       "    <tr>\n",
       "      <th>12940</th>\n",
       "      <td>894</td>\n",
       "      <td>161</td>\n",
       "      <td>16</td>\n",
       "      <td>5.46</td>\n",
       "      <td>1</td>\n",
       "      <td>0</td>\n",
       "      <td>0</td>\n",
       "      <td>0</td>\n",
       "      <td>0</td>\n",
       "      <td>0</td>\n",
       "      <td>...</td>\n",
       "      <td>20</td>\n",
       "      <td>16</td>\n",
       "      <td>12</td>\n",
       "      <td>4</td>\n",
       "      <td>9</td>\n",
       "      <td>3</td>\n",
       "      <td>0</td>\n",
       "      <td>1</td>\n",
       "      <td>10.733333</td>\n",
       "      <td>0</td>\n",
       "    </tr>\n",
       "  </tbody>\n",
       "</table>\n",
       "<p>12941 rows × 126 columns</p>\n",
       "</div>"
      ],
      "text/plain": [
       "       doc_len  word_count  sent_count  avg_word_len  ck  cc  di  nn  dd  ai  \\\n",
       "0          992         179          12          5.48   1   0   1   0   0   1   \n",
       "1          937         169          18          5.44   0   0   1   1   1   3   \n",
       "2          908         166          13          5.40   3   1   1   1   1   4   \n",
       "3          909         164           6          5.51   0   0   0   0   0   3   \n",
       "4          723         147           6          4.88   0   0   0   0   7   4   \n",
       "...        ...         ...         ...           ...  ..  ..  ..  ..  ..  ..   \n",
       "12936      948         174          14          5.37   0   0   2   1   0   5   \n",
       "12937     1144         182           8          6.25   0   1  13   0   0   0   \n",
       "12938     1094         168           7          6.48   2   0   5   0   0   0   \n",
       "12939      823         148          10          5.50   0   0   2   0   0   1   \n",
       "12940      894         161          16          5.46   1   0   0   0   0   0   \n",
       "\n",
       "       ...  5_letter  6_letter  7_letter  8_letter  9_letter  10_letter  \\\n",
       "0      ...        21        10         9        10         8          3   \n",
       "1      ...        17        15        12         5         2          5   \n",
       "2      ...        24         7        11         9         3          2   \n",
       "3      ...        21        20        15         4         1          1   \n",
       "4      ...        28        14         0         2         0          0   \n",
       "...    ...       ...       ...       ...       ...       ...        ...   \n",
       "12936  ...        14        18        11        11         3          1   \n",
       "12937  ...        19        11        18        23         6          9   \n",
       "12938  ...        18        11        26         8        18          6   \n",
       "12939  ...         7        12        17         3         2          0   \n",
       "12940  ...        20        16        12         4         9          3   \n",
       "\n",
       "       11_letter  12_letter        wps  dialogue  \n",
       "0              0          0  29.000000         0  \n",
       "1              2          0  20.500000         1  \n",
       "2              0          0  27.000000         1  \n",
       "3              0          1  40.750000         0  \n",
       "4              0          0  29.400000         0  \n",
       "...          ...        ...        ...       ...  \n",
       "12936          0          0  33.600000         1  \n",
       "12937          7          1  35.800000         0  \n",
       "12938          6          0  33.400000         1  \n",
       "12939          3          3  16.444444         0  \n",
       "12940          0          1  10.733333         0  \n",
       "\n",
       "[12941 rows x 126 columns]"
      ]
     },
     "execution_count": 18,
     "metadata": {},
     "output_type": "execute_result"
    }
   ],
   "source": [
    "df_X"
   ]
  },
  {
   "cell_type": "code",
   "execution_count": 19,
   "metadata": {
    "execution": {
     "iopub.execute_input": "2021-05-27T06:26:19.085895Z",
     "iopub.status.busy": "2021-05-27T06:26:19.085403Z",
     "iopub.status.idle": "2021-05-27T06:26:21.731171Z",
     "shell.execute_reply": "2021-05-27T06:26:21.730326Z",
     "shell.execute_reply.started": "2021-05-27T06:26:19.085862Z"
    }
   },
   "outputs": [],
   "source": [
    "df_X = df_X.T.drop_duplicates().T\n",
    "# df_X_test = df_X_test.T.drop_duplicates().T\n"
   ]
  },
  {
   "cell_type": "code",
   "execution_count": 20,
   "metadata": {
    "execution": {
     "iopub.execute_input": "2021-05-27T06:26:21.732890Z",
     "iopub.status.busy": "2021-05-27T06:26:21.732471Z",
     "iopub.status.idle": "2021-05-27T06:26:21.738682Z",
     "shell.execute_reply": "2021-05-27T06:26:21.737649Z",
     "shell.execute_reply.started": "2021-05-27T06:26:21.732858Z"
    }
   },
   "outputs": [],
   "source": [
    "df_X_test = df_X.iloc[-len(test):]\n",
    "df_X = df_X.iloc[:-len(test)]\n",
    "df_y = c_df['target'][:-len(test)]"
   ]
  },
  {
   "cell_type": "markdown",
   "metadata": {},
   "source": [
    "<h1>Standardize Data"
   ]
  },
  {
   "cell_type": "code",
   "execution_count": 21,
   "metadata": {
    "execution": {
     "iopub.execute_input": "2021-05-27T06:26:21.740830Z",
     "iopub.status.busy": "2021-05-27T06:26:21.740524Z",
     "iopub.status.idle": "2021-05-27T06:26:21.781950Z",
     "shell.execute_reply": "2021-05-27T06:26:21.780456Z",
     "shell.execute_reply.started": "2021-05-27T06:26:21.740799Z"
    }
   },
   "outputs": [
    {
     "name": "stdout",
     "output_type": "stream",
     "text": [
      "MinMaxScaler(copy=True, feature_range=(0, 1))\n"
     ]
    }
   ],
   "source": [
    "from sklearn.preprocessing import StandardScaler, MinMaxScaler\n",
    "from sklearn.model_selection import cross_validate\n",
    "\n",
    "scaler = MinMaxScaler()\n",
    "print(scaler.fit(df_X))\n",
    "# print(scaler.data_max_)\n",
    "x_train = scaler.transform(df_X)\n",
    "\n"
   ]
  },
  {
   "cell_type": "markdown",
   "metadata": {},
   "source": [
    "<h1> Fitting Models"
   ]
  },
  {
   "cell_type": "code",
   "execution_count": 22,
   "metadata": {
    "execution": {
     "iopub.execute_input": "2021-05-27T06:28:53.266187Z",
     "iopub.status.busy": "2021-05-27T06:28:53.265766Z"
    }
   },
   "outputs": [],
   "source": [
    "from lightgbm import LGBMRegressor\n",
    "from sklearn.ensemble import RandomForestRegressor\n",
    "from sklearn.metrics import mean_squared_error\n",
    "from sklearn.model_selection import RandomizedSearchCV\n",
    "\n",
    "# #LightGBM\n",
    "# model = LGBMRegressor(n_estimators = 200, max_depth = 90, reg_alpha = .1)\n",
    "\n",
    "# # Number of trees in random forest\n",
    "# n_estimators = [int(x) for x in np.linspace(start = 200, stop = 2000, num = 10)]\n",
    "# # Number of features to consider at every split\n",
    "# max_features = ['auto', 'sqrt']\n",
    "# # reg_alpha\n",
    "# reg_alpha = [.1,.2,.3,.4,.5,.6,.7,.8,.9]\n",
    "# # Maximum number of levels in tree\n",
    "# max_depth = [int(x) for x in np.linspace(10, 110, num = 11)]\n",
    "# max_depth.append(None)\n",
    "# # Minimum number of samples required to split a node\n",
    "# min_samples_split = [2, 5, 10]\n",
    "# # Minimum number of samples required at each leaf node\n",
    "# min_samples_leaf = [1, 2, 4]\n",
    "# # Method of selecting samples for training each tree\n",
    "# bootstrap = [True, False]\n",
    "# # Create the random grid\n",
    "# random_grid = {'n_estimators': n_estimators,\n",
    "#                'max_depth': max_depth,\n",
    "#                'reg_alpha': reg_alpha\n",
    "#               }\n",
    "# lgbm = RandomizedSearchCV(estimator = model, param_distributions = random_grid, n_iter = 100, cv = 5, verbose=2, random_state=42, n_jobs = -1)\n",
    "# lgbm.fit(x_train, df_y.values)\n",
    "\n",
    "# lgbm.best_params_\n",
    "\n",
    "# model.fit(x_train,df_y)\n",
    "# predictions = model.predict(x_train)\n",
    "# print(mean_squared_error(df_y, predictions, squared=False))\n",
    "# cv_results = cross_validate(model, x_train, df_y.values, cv=5, scoring = 'neg_mean_squared_error')\n",
    "\n",
    "\n",
    "# #Random Forest\n",
    "# model_rfr = RandomForestRegressor(n_estimators = 500, )\n",
    "# model_rfr.fit(x_train,df_y)\n",
    "# predictions = model_rfr.predict(x_train)\n",
    "# print(mean_squared_error(df_y, predictions, squared=False))\n",
    "# cv_results_rfr = cross_validate(model_rfr, x_train, df_y.values, cv=5, scoring = 'neg_mean_squared_error')\n",
    "# print(cv_results_rfr['test_score'])\n"
   ]
  },
  {
   "cell_type": "code",
   "execution_count": 23,
   "metadata": {
    "execution": {
     "iopub.execute_input": "2021-05-27T06:24:27.915998Z",
     "iopub.status.busy": "2021-05-27T06:24:27.915165Z",
     "iopub.status.idle": "2021-05-27T06:24:27.940337Z",
     "shell.execute_reply": "2021-05-27T06:24:27.939414Z",
     "shell.execute_reply.started": "2021-05-27T06:24:27.915954Z"
    }
   },
   "outputs": [],
   "source": [
    "# print(cv_results['test_score'])\n",
    "# x_test = scaler.transform(df_X_test)\n",
    "# y_predict = model.predict(x_test)\n",
    "# y_predict"
   ]
  },
  {
   "cell_type": "code",
   "execution_count": 24,
   "metadata": {},
   "outputs": [
    {
     "name": "stdout",
     "output_type": "stream",
     "text": [
      "0.22874888833661247\n",
      "[-1.33134282 -0.2141913  -0.24423965 -0.2393836  -0.37373511]\n"
     ]
    }
   ],
   "source": [
    "#random forest model\n",
    "model_rfr = RandomForestRegressor(n_estimators = 500)\n",
    "model_rfr.fit(x_train,df_y)\n",
    "predictions = model_rfr.predict(x_train)\n",
    "print(mean_squared_error(df_y, predictions, squared=False))\n",
    "cv_results_rfr = cross_validate(model_rfr, x_train, df_y.values, cv=5, scoring = 'neg_mean_squared_error')\n",
    "print(cv_results_rfr['test_score'])\n"
   ]
  },
  {
   "cell_type": "markdown",
   "metadata": {},
   "source": [
    "default LGBM was .33489"
   ]
  },
  {
   "cell_type": "markdown",
   "metadata": {},
   "source": [
    "0.20189421949665898\n",
    "\n",
    "[-0.67757485 -0.29058851 -0.21928215 -0.22328962 -0.17938408]\n",
    "\n",
    "0.19931558921802858\n",
    "\n",
    "[-0.64393856 -0.27008002 -0.22100026 -0.22946819 -0.23954556]"
   ]
  },
  {
   "cell_type": "markdown",
   "metadata": {},
   "source": [
    "Fitting 5 folds for each of 100 candidates, totalling 500 fits\n",
    "[LightGBM] [Warning] Unknown parameter: max_features\n",
    "[LightGBM] [Warning] Unknown parameter: min_samples_leaf\n",
    "[LightGBM] [Warning] Unknown parameter: bootstrap\n",
    "[LightGBM] [Warning] Unknown parameter: min_samples_split\n",
    "{'n_estimators': 600,\n",
    " 'min_samples_split': 5,\n",
    " 'min_samples_leaf': 1,\n",
    " 'max_features': 'sqrt',\n",
    " 'max_depth': 60,\n",
    " 'bootstrap': False}"
   ]
  },
  {
   "cell_type": "markdown",
   "metadata": {},
   "source": [
    "<h1>Submission"
   ]
  },
  {
   "cell_type": "code",
   "execution_count": null,
   "metadata": {
    "execution": {
     "iopub.execute_input": "2021-05-27T05:59:35.979592Z",
     "iopub.status.busy": "2021-05-27T05:59:35.978820Z",
     "iopub.status.idle": "2021-05-27T05:59:35.998355Z",
     "shell.execute_reply": "2021-05-27T05:59:35.996869Z",
     "shell.execute_reply.started": "2021-05-27T05:59:35.979535Z"
    }
   },
   "outputs": [],
   "source": [
    "#LightGBM\n",
    "# x_test = scaler.transform(df_X_test)\n",
    "# y_predict = model.predict(x_test)\n",
    "# y_predict"
   ]
  },
  {
   "cell_type": "code",
   "execution_count": null,
   "metadata": {
    "execution": {
     "iopub.execute_input": "2021-05-27T06:19:31.665466Z",
     "iopub.status.busy": "2021-05-27T06:19:31.664989Z",
     "iopub.status.idle": "2021-05-27T06:19:31.670094Z",
     "shell.execute_reply": "2021-05-27T06:19:31.668831Z",
     "shell.execute_reply.started": "2021-05-27T06:19:31.665429Z"
    }
   },
   "outputs": [],
   "source": [
    "# #RFR\n",
    "# x_test = scaler.transform(df_X_test)\n",
    "# y_predict_rfr = model_rfr.predict(x_test)\n",
    "# y_predict_rfr\n"
   ]
  },
  {
   "cell_type": "code",
   "execution_count": null,
   "metadata": {
    "execution": {
     "iopub.execute_input": "2021-05-27T05:59:56.680571Z",
     "iopub.status.busy": "2021-05-27T05:59:56.680168Z",
     "iopub.status.idle": "2021-05-27T05:59:56.684858Z",
     "shell.execute_reply": "2021-05-27T05:59:56.683934Z",
     "shell.execute_reply.started": "2021-05-27T05:59:56.680522Z"
    }
   },
   "outputs": [],
   "source": [
    "# avg_result = (y_predict_rfr + y_predict)/2\n",
    "# avg_result"
   ]
  },
  {
   "cell_type": "code",
   "execution_count": null,
   "metadata": {
    "execution": {
     "iopub.execute_input": "2021-05-27T06:19:57.470974Z",
     "iopub.status.busy": "2021-05-27T06:19:57.470584Z",
     "iopub.status.idle": "2021-05-27T06:19:57.476157Z",
     "shell.execute_reply": "2021-05-27T06:19:57.474760Z",
     "shell.execute_reply.started": "2021-05-27T06:19:57.470940Z"
    }
   },
   "outputs": [],
   "source": [
    "submission = pd.DataFrame(y_predict)\n"
   ]
  },
  {
   "cell_type": "code",
   "execution_count": null,
   "metadata": {},
   "outputs": [],
   "source": []
  },
  {
   "cell_type": "code",
   "execution_count": null,
   "metadata": {
    "execution": {
     "iopub.execute_input": "2021-05-27T06:20:00.089192Z",
     "iopub.status.busy": "2021-05-27T06:20:00.088807Z",
     "iopub.status.idle": "2021-05-27T06:20:00.101850Z",
     "shell.execute_reply": "2021-05-27T06:20:00.100093Z",
     "shell.execute_reply.started": "2021-05-27T06:20:00.089160Z"
    }
   },
   "outputs": [],
   "source": [
    "submission['id'] = test.id.values\n",
    "submission = submission.rename(columns = {0:'target'})\n",
    "submission = submission[['id','target']]\n",
    "submission.reset_index(drop=True, inplace=True)"
   ]
  },
  {
   "cell_type": "code",
   "execution_count": null,
   "metadata": {
    "execution": {
     "iopub.execute_input": "2021-05-27T06:20:02.368036Z",
     "iopub.status.busy": "2021-05-27T06:20:02.367374Z",
     "iopub.status.idle": "2021-05-27T06:20:02.378497Z",
     "shell.execute_reply": "2021-05-27T06:20:02.377517Z",
     "shell.execute_reply.started": "2021-05-27T06:20:02.367997Z"
    }
   },
   "outputs": [],
   "source": [
    "submission"
   ]
  },
  {
   "cell_type": "code",
   "execution_count": null,
   "metadata": {
    "execution": {
     "iopub.execute_input": "2021-05-27T05:49:29.520506Z",
     "iopub.status.busy": "2021-05-27T05:49:29.519989Z",
     "iopub.status.idle": "2021-05-27T05:49:29.528822Z",
     "shell.execute_reply": "2021-05-27T05:49:29.527992Z",
     "shell.execute_reply.started": "2021-05-27T05:49:29.520453Z"
    }
   },
   "outputs": [],
   "source": [
    "submission.to_csv('submission.csv',index=False)"
   ]
  },
  {
   "cell_type": "code",
   "execution_count": null,
   "metadata": {
    "execution": {
     "iopub.execute_input": "2021-05-27T06:20:21.031880Z",
     "iopub.status.busy": "2021-05-27T06:20:21.031442Z",
     "iopub.status.idle": "2021-05-27T06:20:21.039490Z",
     "shell.execute_reply": "2021-05-27T06:20:21.038158Z",
     "shell.execute_reply.started": "2021-05-27T06:20:21.031841Z"
    }
   },
   "outputs": [],
   "source": [
    "test.excerpt.iloc[6]"
   ]
  },
  {
   "cell_type": "code",
   "execution_count": null,
   "metadata": {
    "execution": {
     "iopub.execute_input": "2021-05-27T06:23:23.861993Z",
     "iopub.status.busy": "2021-05-27T06:23:23.861576Z",
     "iopub.status.idle": "2021-05-27T06:23:23.871230Z",
     "shell.execute_reply": "2021-05-27T06:23:23.870230Z",
     "shell.execute_reply.started": "2021-05-27T06:23:23.861959Z"
    }
   },
   "outputs": [],
   "source": [
    "train[(train['target']>0) & (train['target']<.5)]['excerpt'].iloc[2]"
   ]
  },
  {
   "cell_type": "code",
   "execution_count": null,
   "metadata": {
    "execution": {
     "iopub.execute_input": "2021-05-27T05:54:14.611663Z",
     "iopub.status.busy": "2021-05-27T05:54:14.611238Z",
     "iopub.status.idle": "2021-05-27T05:54:14.619243Z",
     "shell.execute_reply": "2021-05-27T05:54:14.618034Z",
     "shell.execute_reply.started": "2021-05-27T05:54:14.611629Z"
    }
   },
   "outputs": [],
   "source": [
    "train.excerpt.iloc[240]"
   ]
  },
  {
   "cell_type": "code",
   "execution_count": null,
   "metadata": {},
   "outputs": [],
   "source": []
  }
 ],
 "metadata": {
  "kernelspec": {
   "display_name": "Python 3",
   "language": "python",
   "name": "python3"
  },
  "language_info": {
   "codemirror_mode": {
    "name": "ipython",
    "version": 3
   },
   "file_extension": ".py",
   "mimetype": "text/x-python",
   "name": "python",
   "nbconvert_exporter": "python",
   "pygments_lexer": "ipython3",
   "version": "3.8.5"
  }
 },
 "nbformat": 4,
 "nbformat_minor": 4
}
